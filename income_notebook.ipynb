{
 "cells": [
  {
   "cell_type": "markdown",
   "metadata": {},
   "source": [
    "# HOUSEHOLD INCOME KAGGLE PROJECT"
   ]
  },
  {
   "cell_type": "markdown",
   "metadata": {},
   "source": [
    "FILENAME: Analysis Notebook.ipynb\n",
    "    \n",
    "PROJECT: Household Income Kaggle Project\n",
    "\n",
    "DATE CREATED:24-APR-20\n",
    "\n",
    "DATE UPDATED:24-APR-20\n",
    "\n",
    "AUTHOR: dxjester21"
   ]
  },
  {
   "cell_type": "markdown",
   "metadata": {},
   "source": [
    "This project is from the online Kaggle completition: https://www.kaggle.com/goldenoakresearch/us-household-income-stats-geo-locations/data"
   ]
  },
  {
   "cell_type": "markdown",
   "metadata": {},
   "source": [
    "The purpose of this project is to conduct exploratory analysis of the provided data set and apply both supervised and unsupervised algorithms in order to extract meaniningful information in support for future open source analysis. The project is broken down into four (4) distinct phases:\n",
    "\n",
    "1. Environment Setup \n",
    "\n",
    "2. Data ETL\n",
    "\n",
    "3. Data Exploration\n",
    "\n",
    "4. Data Analysis"
   ]
  },
  {
   "cell_type": "markdown",
   "metadata": {},
   "source": [
    "## PHASE 1: PROJECT SETUP"
   ]
  },
  {
   "cell_type": "markdown",
   "metadata": {},
   "source": [
    "Import the necessary libraries needed for ETL, engineering, and export efforts"
   ]
  },
  {
   "cell_type": "code",
   "execution_count": 4,
   "metadata": {},
   "outputs": [
    {
     "data": {
      "text/html": [
       "<style>.container { width:100% !important; }</style>"
      ],
      "text/plain": [
       "<IPython.core.display.HTML object>"
      ]
     },
     "metadata": {},
     "output_type": "display_data"
    }
   ],
   "source": [
    "from IPython.core.display import display, HTML\n",
    "display(HTML(\"<style>.container { width:100% !important; }</style>\"))"
   ]
  },
  {
   "cell_type": "code",
   "execution_count": 5,
   "metadata": {},
   "outputs": [],
   "source": [
    "import pandas as pd\n",
    "import csv\n",
    "import random\n",
    "import sqlite3\n",
    "import itertools\n",
    "import numpy as np\n",
    "import datetime\n",
    "import time as t\n",
    "import matplotlib.pyplot as plt\n",
    "import seaborn as sns\n",
    "import plotly.express as px\n",
    "import getpass as gp"
   ]
  },
  {
   "cell_type": "code",
   "execution_count": 6,
   "metadata": {},
   "outputs": [
    {
     "ename": "ModuleNotFoundError",
     "evalue": "No module named 'tensorflow'",
     "output_type": "error",
     "traceback": [
      "\u001b[0;31m---------------------------------------------------------------------------\u001b[0m",
      "\u001b[0;31mModuleNotFoundError\u001b[0m                       Traceback (most recent call last)",
      "\u001b[0;32m<ipython-input-6-83c53eb7de93>\u001b[0m in \u001b[0;36m<module>\u001b[0;34m\u001b[0m\n\u001b[1;32m      1\u001b[0m \u001b[0;31m# algorithm libraries\u001b[0m\u001b[0;34m\u001b[0m\u001b[0;34m\u001b[0m\u001b[0;34m\u001b[0m\u001b[0m\n\u001b[1;32m      2\u001b[0m \u001b[0;32mfrom\u001b[0m \u001b[0mstatsmodels\u001b[0m\u001b[0;34m.\u001b[0m\u001b[0mtsa\u001b[0m\u001b[0;34m.\u001b[0m\u001b[0marima_model\u001b[0m \u001b[0;32mimport\u001b[0m \u001b[0mARIMA\u001b[0m\u001b[0;34m\u001b[0m\u001b[0;34m\u001b[0m\u001b[0m\n\u001b[0;32m----> 3\u001b[0;31m \u001b[0;32mimport\u001b[0m \u001b[0mtensorflow\u001b[0m \u001b[0;32mas\u001b[0m \u001b[0mtf\u001b[0m\u001b[0;34m\u001b[0m\u001b[0;34m\u001b[0m\u001b[0m\n\u001b[0m\u001b[1;32m      4\u001b[0m \u001b[0;32mfrom\u001b[0m \u001b[0msklearn\u001b[0m\u001b[0;34m.\u001b[0m\u001b[0mmodel_selection\u001b[0m \u001b[0;32mimport\u001b[0m \u001b[0mtrain_test_split\u001b[0m\u001b[0;34m\u001b[0m\u001b[0;34m\u001b[0m\u001b[0m\n\u001b[1;32m      5\u001b[0m \u001b[0;32mfrom\u001b[0m \u001b[0msklearn\u001b[0m\u001b[0;34m.\u001b[0m\u001b[0mpreprocessing\u001b[0m \u001b[0;32mimport\u001b[0m \u001b[0mMinMaxScaler\u001b[0m\u001b[0;34m\u001b[0m\u001b[0;34m\u001b[0m\u001b[0m\n",
      "\u001b[0;31mModuleNotFoundError\u001b[0m: No module named 'tensorflow'"
     ]
    }
   ],
   "source": [
    "# algorithm libraries\n",
    "from statsmodels.tsa.arima_model import ARIMA\n",
    "import tensorflow as tf\n",
    "from sklearn.model_selection import train_test_split\n",
    "from sklearn.preprocessing import MinMaxScaler"
   ]
  },
  {
   "cell_type": "markdown",
   "metadata": {},
   "source": [
    "Start the project timer"
   ]
  },
  {
   "cell_type": "code",
   "execution_count": null,
   "metadata": {},
   "outputs": [],
   "source": [
    "program_start = t.time()"
   ]
  },
  {
   "cell_type": "markdown",
   "metadata": {},
   "source": [
    "Set the random seed for the project in order to ensure consistent results"
   ]
  },
  {
   "cell_type": "code",
   "execution_count": null,
   "metadata": {},
   "outputs": [],
   "source": [
    "random.seed(6)"
   ]
  },
  {
   "cell_type": "markdown",
   "metadata": {},
   "source": [
    "## PHASE 2: DATA ETL"
   ]
  },
  {
   "cell_type": "raw",
   "metadata": {},
   "source": [
    "username = gp.getpass(prompt='Enter your username:') "
   ]
  },
  {
   "cell_type": "raw",
   "metadata": {},
   "source": [
    "password = gp.getpass(prompt='Enter your password:') "
   ]
  },
  {
   "cell_type": "raw",
   "metadata": {},
   "source": [
    "username = \"username\"\n",
    "password = \"password\"\n",
    "url = 'https://sample_aws.html' # AWS instance"
   ]
  },
  {
   "cell_type": "markdown",
   "metadata": {},
   "source": [
    "## Raw data import"
   ]
  },
  {
   "cell_type": "code",
   "execution_count": 7,
   "metadata": {},
   "outputs": [
    {
     "data": {
      "text/html": [
       "<div>\n",
       "<style scoped>\n",
       "    .dataframe tbody tr th:only-of-type {\n",
       "        vertical-align: middle;\n",
       "    }\n",
       "\n",
       "    .dataframe tbody tr th {\n",
       "        vertical-align: top;\n",
       "    }\n",
       "\n",
       "    .dataframe thead th {\n",
       "        text-align: right;\n",
       "    }\n",
       "</style>\n",
       "<table border=\"1\" class=\"dataframe\">\n",
       "  <thead>\n",
       "    <tr style=\"text-align: right;\">\n",
       "      <th></th>\n",
       "      <th>longitude</th>\n",
       "      <th>latitude</th>\n",
       "      <th>housing_median_age</th>\n",
       "      <th>total_rooms</th>\n",
       "      <th>total_bedrooms</th>\n",
       "      <th>population</th>\n",
       "      <th>households</th>\n",
       "      <th>median_income</th>\n",
       "      <th>median_house_value</th>\n",
       "      <th>ocean_proximity</th>\n",
       "    </tr>\n",
       "  </thead>\n",
       "  <tbody>\n",
       "    <tr>\n",
       "      <th>0</th>\n",
       "      <td>-122.23</td>\n",
       "      <td>37.88</td>\n",
       "      <td>41</td>\n",
       "      <td>880</td>\n",
       "      <td>129.0</td>\n",
       "      <td>322</td>\n",
       "      <td>126</td>\n",
       "      <td>8.3252</td>\n",
       "      <td>452600</td>\n",
       "      <td>NEAR BAY</td>\n",
       "    </tr>\n",
       "    <tr>\n",
       "      <th>1</th>\n",
       "      <td>-122.22</td>\n",
       "      <td>37.86</td>\n",
       "      <td>21</td>\n",
       "      <td>7099</td>\n",
       "      <td>1106.0</td>\n",
       "      <td>2401</td>\n",
       "      <td>1138</td>\n",
       "      <td>8.3014</td>\n",
       "      <td>358500</td>\n",
       "      <td>NEAR BAY</td>\n",
       "    </tr>\n",
       "    <tr>\n",
       "      <th>2</th>\n",
       "      <td>-122.24</td>\n",
       "      <td>37.85</td>\n",
       "      <td>52</td>\n",
       "      <td>1467</td>\n",
       "      <td>190.0</td>\n",
       "      <td>496</td>\n",
       "      <td>177</td>\n",
       "      <td>7.2574</td>\n",
       "      <td>352100</td>\n",
       "      <td>NEAR BAY</td>\n",
       "    </tr>\n",
       "    <tr>\n",
       "      <th>3</th>\n",
       "      <td>-122.25</td>\n",
       "      <td>37.85</td>\n",
       "      <td>52</td>\n",
       "      <td>1274</td>\n",
       "      <td>235.0</td>\n",
       "      <td>558</td>\n",
       "      <td>219</td>\n",
       "      <td>5.6431</td>\n",
       "      <td>341300</td>\n",
       "      <td>NEAR BAY</td>\n",
       "    </tr>\n",
       "    <tr>\n",
       "      <th>4</th>\n",
       "      <td>-122.25</td>\n",
       "      <td>37.85</td>\n",
       "      <td>52</td>\n",
       "      <td>1627</td>\n",
       "      <td>280.0</td>\n",
       "      <td>565</td>\n",
       "      <td>259</td>\n",
       "      <td>3.8462</td>\n",
       "      <td>342200</td>\n",
       "      <td>NEAR BAY</td>\n",
       "    </tr>\n",
       "    <tr>\n",
       "      <th>5</th>\n",
       "      <td>-122.25</td>\n",
       "      <td>37.85</td>\n",
       "      <td>52</td>\n",
       "      <td>919</td>\n",
       "      <td>213.0</td>\n",
       "      <td>413</td>\n",
       "      <td>193</td>\n",
       "      <td>4.0368</td>\n",
       "      <td>269700</td>\n",
       "      <td>NEAR BAY</td>\n",
       "    </tr>\n",
       "    <tr>\n",
       "      <th>6</th>\n",
       "      <td>-122.25</td>\n",
       "      <td>37.84</td>\n",
       "      <td>52</td>\n",
       "      <td>2535</td>\n",
       "      <td>489.0</td>\n",
       "      <td>1094</td>\n",
       "      <td>514</td>\n",
       "      <td>3.6591</td>\n",
       "      <td>299200</td>\n",
       "      <td>NEAR BAY</td>\n",
       "    </tr>\n",
       "    <tr>\n",
       "      <th>7</th>\n",
       "      <td>-122.25</td>\n",
       "      <td>37.84</td>\n",
       "      <td>52</td>\n",
       "      <td>3104</td>\n",
       "      <td>687.0</td>\n",
       "      <td>1157</td>\n",
       "      <td>647</td>\n",
       "      <td>3.1200</td>\n",
       "      <td>241400</td>\n",
       "      <td>NEAR BAY</td>\n",
       "    </tr>\n",
       "    <tr>\n",
       "      <th>8</th>\n",
       "      <td>-122.26</td>\n",
       "      <td>37.84</td>\n",
       "      <td>42</td>\n",
       "      <td>2555</td>\n",
       "      <td>665.0</td>\n",
       "      <td>1206</td>\n",
       "      <td>595</td>\n",
       "      <td>2.0804</td>\n",
       "      <td>226700</td>\n",
       "      <td>NEAR BAY</td>\n",
       "    </tr>\n",
       "    <tr>\n",
       "      <th>9</th>\n",
       "      <td>-122.25</td>\n",
       "      <td>37.84</td>\n",
       "      <td>52</td>\n",
       "      <td>3549</td>\n",
       "      <td>707.0</td>\n",
       "      <td>1551</td>\n",
       "      <td>714</td>\n",
       "      <td>3.6912</td>\n",
       "      <td>261100</td>\n",
       "      <td>NEAR BAY</td>\n",
       "    </tr>\n",
       "  </tbody>\n",
       "</table>\n",
       "</div>"
      ],
      "text/plain": [
       "   longitude  latitude  housing_median_age  total_rooms  total_bedrooms  \\\n",
       "0    -122.23     37.88                  41          880           129.0   \n",
       "1    -122.22     37.86                  21         7099          1106.0   \n",
       "2    -122.24     37.85                  52         1467           190.0   \n",
       "3    -122.25     37.85                  52         1274           235.0   \n",
       "4    -122.25     37.85                  52         1627           280.0   \n",
       "5    -122.25     37.85                  52          919           213.0   \n",
       "6    -122.25     37.84                  52         2535           489.0   \n",
       "7    -122.25     37.84                  52         3104           687.0   \n",
       "8    -122.26     37.84                  42         2555           665.0   \n",
       "9    -122.25     37.84                  52         3549           707.0   \n",
       "\n",
       "   population  households  median_income  median_house_value ocean_proximity  \n",
       "0         322         126         8.3252              452600        NEAR BAY  \n",
       "1        2401        1138         8.3014              358500        NEAR BAY  \n",
       "2         496         177         7.2574              352100        NEAR BAY  \n",
       "3         558         219         5.6431              341300        NEAR BAY  \n",
       "4         565         259         3.8462              342200        NEAR BAY  \n",
       "5         413         193         4.0368              269700        NEAR BAY  \n",
       "6        1094         514         3.6591              299200        NEAR BAY  \n",
       "7        1157         647         3.1200              241400        NEAR BAY  \n",
       "8        1206         595         2.0804              226700        NEAR BAY  \n",
       "9        1551         714         3.6912              261100        NEAR BAY  "
      ]
     },
     "execution_count": 7,
     "metadata": {},
     "output_type": "execute_result"
    }
   ],
   "source": [
    "# import listings-2.csv into pandas dataframe\n",
    "raw_df = pd.read_csv(\"data/ca_housing.csv\") \n",
    "raw_df.head(10) #raw dataframe"
   ]
  },
  {
   "cell_type": "code",
   "execution_count": 8,
   "metadata": {},
   "outputs": [
    {
     "data": {
      "text/plain": [
       "longitude             float64\n",
       "latitude              float64\n",
       "housing_median_age      int64\n",
       "total_rooms             int64\n",
       "total_bedrooms        float64\n",
       "population              int64\n",
       "households              int64\n",
       "median_income         float64\n",
       "median_house_value      int64\n",
       "ocean_proximity        object\n",
       "dtype: object"
      ]
     },
     "execution_count": 8,
     "metadata": {},
     "output_type": "execute_result"
    }
   ],
   "source": [
    "raw_df.dtypes"
   ]
  },
  {
   "cell_type": "code",
   "execution_count": 9,
   "metadata": {},
   "outputs": [],
   "source": [
    "work_df = raw_df.copy()"
   ]
  },
  {
   "cell_type": "markdown",
   "metadata": {},
   "source": [
    "# PHASE 4: DATA ANALYSIS"
   ]
  },
  {
   "cell_type": "markdown",
   "metadata": {},
   "source": [
    "## Multivariate Neural Network Model Development"
   ]
  },
  {
   "cell_type": "code",
   "execution_count": 12,
   "metadata": {},
   "outputs": [
    {
     "name": "stdout",
     "output_type": "stream",
     "text": [
      "Collecting tensorflow\n",
      "  Using cached tensorflow-2.1.0-cp37-cp37m-macosx_10_11_x86_64.whl (120.8 MB)\n",
      "Requirement already satisfied: numpy<2.0,>=1.16.0 in /opt/anaconda3/lib/python3.7/site-packages (from tensorflow) (1.18.1)\n",
      "Collecting grpcio>=1.8.6\n",
      "  Using cached grpcio-1.28.1-cp37-cp37m-macosx_10_9_x86_64.whl (2.6 MB)\n",
      "Processing /Users/patrickbenitez/Library/Caches/pip/wheels/8e/28/49/fad4e7f0b9a1227708cbbee4487ac8558a7334849cb81c813d/absl_py-0.9.0-cp37-none-any.whl\n",
      "Collecting astor>=0.6.0\n",
      "  Using cached astor-0.8.1-py2.py3-none-any.whl (27 kB)\n",
      "Collecting tensorflow-estimator<2.2.0,>=2.1.0rc0\n",
      "  Using cached tensorflow_estimator-2.1.0-py2.py3-none-any.whl (448 kB)\n",
      "Collecting tensorboard<2.2.0,>=2.1.0\n",
      "  Using cached tensorboard-2.1.1-py3-none-any.whl (3.8 MB)\n",
      "Collecting google-pasta>=0.1.6\n",
      "  Using cached google_pasta-0.2.0-py3-none-any.whl (57 kB)\n",
      "Processing /Users/patrickbenitez/Library/Caches/pip/wheels/7c/06/54/bc84598ba1daf8f970247f550b175aaaee85f68b4b0c5ab2c6/termcolor-1.1.0-cp37-none-any.whl\n",
      "Requirement already satisfied: wheel>=0.26; python_version >= \"3\" in /opt/anaconda3/lib/python3.7/site-packages (from tensorflow) (0.34.2)\n",
      "Collecting protobuf>=3.8.0\n",
      "  Using cached protobuf-3.11.3-cp37-cp37m-macosx_10_9_x86_64.whl (1.3 MB)\n",
      "Processing /Users/patrickbenitez/Library/Caches/pip/wheels/5c/2e/7e/a1d4d4fcebe6c381f378ce7743a3ced3699feb89bcfbdadadd/gast-0.2.2-cp37-none-any.whl\n",
      "Collecting keras-applications>=1.0.8\n",
      "  Using cached Keras_Applications-1.0.8-py3-none-any.whl (50 kB)\n",
      "Collecting keras-preprocessing>=1.1.0\n",
      "  Using cached Keras_Preprocessing-1.1.0-py2.py3-none-any.whl (41 kB)\n",
      "Requirement already satisfied: scipy==1.4.1; python_version >= \"3\" in /opt/anaconda3/lib/python3.7/site-packages (from tensorflow) (1.4.1)\n",
      "Requirement already satisfied: six>=1.12.0 in /opt/anaconda3/lib/python3.7/site-packages (from tensorflow) (1.14.0)\n",
      "Requirement already satisfied: wrapt>=1.11.1 in /opt/anaconda3/lib/python3.7/site-packages (from tensorflow) (1.11.2)\n",
      "Collecting opt-einsum>=2.3.2\n",
      "  Using cached opt_einsum-3.2.1-py3-none-any.whl (63 kB)\n",
      "Collecting google-auth<2,>=1.6.3\n",
      "  Using cached google_auth-1.14.1-py2.py3-none-any.whl (89 kB)\n",
      "Collecting google-auth-oauthlib<0.5,>=0.4.1\n",
      "  Using cached google_auth_oauthlib-0.4.1-py2.py3-none-any.whl (18 kB)\n",
      "Requirement already satisfied: requests<3,>=2.21.0 in /opt/anaconda3/lib/python3.7/site-packages (from tensorboard<2.2.0,>=2.1.0->tensorflow) (2.22.0)\n",
      "Requirement already satisfied: werkzeug>=0.11.15 in /opt/anaconda3/lib/python3.7/site-packages (from tensorboard<2.2.0,>=2.1.0->tensorflow) (1.0.0)\n",
      "Collecting markdown>=2.6.8\n",
      "  Using cached Markdown-3.2.1-py2.py3-none-any.whl (88 kB)\n",
      "Requirement already satisfied: setuptools>=41.0.0 in /opt/anaconda3/lib/python3.7/site-packages (from tensorboard<2.2.0,>=2.1.0->tensorflow) (46.0.0.post20200309)\n",
      "Requirement already satisfied: h5py in /opt/anaconda3/lib/python3.7/site-packages (from keras-applications>=1.0.8->tensorflow) (2.10.0)\n",
      "Collecting rsa<4.1,>=3.1.4\n",
      "  Using cached rsa-4.0-py2.py3-none-any.whl (38 kB)\n",
      "Collecting pyasn1-modules>=0.2.1\n",
      "  Using cached pyasn1_modules-0.2.8-py2.py3-none-any.whl (155 kB)\n",
      "Collecting cachetools<5.0,>=2.0.0\n",
      "  Using cached cachetools-4.1.0-py3-none-any.whl (10 kB)\n",
      "Collecting requests-oauthlib>=0.7.0\n",
      "  Using cached requests_oauthlib-1.3.0-py2.py3-none-any.whl (23 kB)\n",
      "Requirement already satisfied: chardet<3.1.0,>=3.0.2 in /opt/anaconda3/lib/python3.7/site-packages (from requests<3,>=2.21.0->tensorboard<2.2.0,>=2.1.0->tensorflow) (3.0.4)\n",
      "Requirement already satisfied: urllib3!=1.25.0,!=1.25.1,<1.26,>=1.21.1 in /opt/anaconda3/lib/python3.7/site-packages (from requests<3,>=2.21.0->tensorboard<2.2.0,>=2.1.0->tensorflow) (1.25.8)\n",
      "Requirement already satisfied: certifi>=2017.4.17 in /opt/anaconda3/lib/python3.7/site-packages (from requests<3,>=2.21.0->tensorboard<2.2.0,>=2.1.0->tensorflow) (2019.11.28)\n",
      "Requirement already satisfied: idna<2.9,>=2.5 in /opt/anaconda3/lib/python3.7/site-packages (from requests<3,>=2.21.0->tensorboard<2.2.0,>=2.1.0->tensorflow) (2.8)\n",
      "Collecting pyasn1>=0.1.3\n",
      "  Using cached pyasn1-0.4.8-py2.py3-none-any.whl (77 kB)\n",
      "Collecting oauthlib>=3.0.0\n",
      "  Using cached oauthlib-3.1.0-py2.py3-none-any.whl (147 kB)\n",
      "Installing collected packages: grpcio, absl-py, astor, tensorflow-estimator, protobuf, pyasn1, rsa, pyasn1-modules, cachetools, google-auth, oauthlib, requests-oauthlib, google-auth-oauthlib, markdown, tensorboard, google-pasta, termcolor, gast, keras-applications, keras-preprocessing, opt-einsum, tensorflow\n",
      "Successfully installed absl-py-0.9.0 astor-0.8.1 cachetools-4.1.0 gast-0.2.2 google-auth-1.14.1 google-auth-oauthlib-0.4.1 google-pasta-0.2.0 grpcio-1.28.1 keras-applications-1.0.8 keras-preprocessing-1.1.0 markdown-3.2.1 oauthlib-3.1.0 opt-einsum-3.2.1 protobuf-3.11.3 pyasn1-0.4.8 pyasn1-modules-0.2.8 requests-oauthlib-1.3.0 rsa-4.0 tensorboard-2.1.1 tensorflow-2.1.0 tensorflow-estimator-2.1.0 termcolor-1.1.0\n"
     ]
    }
   ],
   "source": [
    "!pip install tensorflow"
   ]
  },
  {
   "cell_type": "code",
   "execution_count": 13,
   "metadata": {},
   "outputs": [
    {
     "name": "stdout",
     "output_type": "stream",
     "text": [
      "2.1.0\n"
     ]
    }
   ],
   "source": [
    "import tensorflow as tf\n",
    "\n",
    "from tensorflow import keras\n",
    "from tensorflow.keras import layers\n",
    "from sklearn.model_selection import train_test_split\n",
    "from sklearn.model_selection import cross_val_score\n",
    "from sklearn.model_selection import KFold\n",
    "from sklearn.pipeline import Pipeline\n",
    "from sklearn.preprocessing import MinMaxScaler\n",
    "from tensorflow.python.keras.models import Sequential\n",
    "from tensorflow.python.keras.layers import Dense\n",
    "from tensorflow.python.keras.wrappers.scikit_learn import KerasRegressor\n",
    "print(tf.__version__)"
   ]
  },
  {
   "cell_type": "code",
   "execution_count": 14,
   "metadata": {},
   "outputs": [],
   "source": [
    "work_df = work_df[['housing_median_age','total_rooms', 'population','households','longitude','median_house_value']]"
   ]
  },
  {
   "cell_type": "code",
   "execution_count": 15,
   "metadata": {},
   "outputs": [
    {
     "data": {
      "text/html": [
       "<div>\n",
       "<style scoped>\n",
       "    .dataframe tbody tr th:only-of-type {\n",
       "        vertical-align: middle;\n",
       "    }\n",
       "\n",
       "    .dataframe tbody tr th {\n",
       "        vertical-align: top;\n",
       "    }\n",
       "\n",
       "    .dataframe thead th {\n",
       "        text-align: right;\n",
       "    }\n",
       "</style>\n",
       "<table border=\"1\" class=\"dataframe\">\n",
       "  <thead>\n",
       "    <tr style=\"text-align: right;\">\n",
       "      <th></th>\n",
       "      <th>housing_median_age</th>\n",
       "      <th>total_rooms</th>\n",
       "      <th>population</th>\n",
       "      <th>households</th>\n",
       "      <th>longitude</th>\n",
       "      <th>median_house_value</th>\n",
       "    </tr>\n",
       "  </thead>\n",
       "  <tbody>\n",
       "    <tr>\n",
       "      <th>count</th>\n",
       "      <td>20640.000000</td>\n",
       "      <td>20640.000000</td>\n",
       "      <td>20640.000000</td>\n",
       "      <td>20640.000000</td>\n",
       "      <td>20640.000000</td>\n",
       "      <td>20640.000000</td>\n",
       "    </tr>\n",
       "    <tr>\n",
       "      <th>mean</th>\n",
       "      <td>28.639486</td>\n",
       "      <td>2635.763081</td>\n",
       "      <td>1425.476744</td>\n",
       "      <td>499.539680</td>\n",
       "      <td>-119.569704</td>\n",
       "      <td>206855.816909</td>\n",
       "    </tr>\n",
       "    <tr>\n",
       "      <th>std</th>\n",
       "      <td>12.585558</td>\n",
       "      <td>2181.615252</td>\n",
       "      <td>1132.462122</td>\n",
       "      <td>382.329753</td>\n",
       "      <td>2.003532</td>\n",
       "      <td>115395.615874</td>\n",
       "    </tr>\n",
       "    <tr>\n",
       "      <th>min</th>\n",
       "      <td>1.000000</td>\n",
       "      <td>2.000000</td>\n",
       "      <td>3.000000</td>\n",
       "      <td>1.000000</td>\n",
       "      <td>-124.350000</td>\n",
       "      <td>14999.000000</td>\n",
       "    </tr>\n",
       "    <tr>\n",
       "      <th>25%</th>\n",
       "      <td>18.000000</td>\n",
       "      <td>1447.750000</td>\n",
       "      <td>787.000000</td>\n",
       "      <td>280.000000</td>\n",
       "      <td>-121.800000</td>\n",
       "      <td>119600.000000</td>\n",
       "    </tr>\n",
       "    <tr>\n",
       "      <th>50%</th>\n",
       "      <td>29.000000</td>\n",
       "      <td>2127.000000</td>\n",
       "      <td>1166.000000</td>\n",
       "      <td>409.000000</td>\n",
       "      <td>-118.490000</td>\n",
       "      <td>179700.000000</td>\n",
       "    </tr>\n",
       "    <tr>\n",
       "      <th>75%</th>\n",
       "      <td>37.000000</td>\n",
       "      <td>3148.000000</td>\n",
       "      <td>1725.000000</td>\n",
       "      <td>605.000000</td>\n",
       "      <td>-118.010000</td>\n",
       "      <td>264725.000000</td>\n",
       "    </tr>\n",
       "    <tr>\n",
       "      <th>max</th>\n",
       "      <td>52.000000</td>\n",
       "      <td>39320.000000</td>\n",
       "      <td>35682.000000</td>\n",
       "      <td>6082.000000</td>\n",
       "      <td>-114.310000</td>\n",
       "      <td>500001.000000</td>\n",
       "    </tr>\n",
       "  </tbody>\n",
       "</table>\n",
       "</div>"
      ],
      "text/plain": [
       "       housing_median_age   total_rooms    population    households  \\\n",
       "count        20640.000000  20640.000000  20640.000000  20640.000000   \n",
       "mean            28.639486   2635.763081   1425.476744    499.539680   \n",
       "std             12.585558   2181.615252   1132.462122    382.329753   \n",
       "min              1.000000      2.000000      3.000000      1.000000   \n",
       "25%             18.000000   1447.750000    787.000000    280.000000   \n",
       "50%             29.000000   2127.000000   1166.000000    409.000000   \n",
       "75%             37.000000   3148.000000   1725.000000    605.000000   \n",
       "max             52.000000  39320.000000  35682.000000   6082.000000   \n",
       "\n",
       "          longitude  median_house_value  \n",
       "count  20640.000000        20640.000000  \n",
       "mean    -119.569704       206855.816909  \n",
       "std        2.003532       115395.615874  \n",
       "min     -124.350000        14999.000000  \n",
       "25%     -121.800000       119600.000000  \n",
       "50%     -118.490000       179700.000000  \n",
       "75%     -118.010000       264725.000000  \n",
       "max     -114.310000       500001.000000  "
      ]
     },
     "execution_count": 15,
     "metadata": {},
     "output_type": "execute_result"
    }
   ],
   "source": [
    "work_df.describe()"
   ]
  },
  {
   "cell_type": "code",
   "execution_count": 16,
   "metadata": {},
   "outputs": [
    {
     "data": {
      "text/html": [
       "<div>\n",
       "<style scoped>\n",
       "    .dataframe tbody tr th:only-of-type {\n",
       "        vertical-align: middle;\n",
       "    }\n",
       "\n",
       "    .dataframe tbody tr th {\n",
       "        vertical-align: top;\n",
       "    }\n",
       "\n",
       "    .dataframe thead th {\n",
       "        text-align: right;\n",
       "    }\n",
       "</style>\n",
       "<table border=\"1\" class=\"dataframe\">\n",
       "  <thead>\n",
       "    <tr style=\"text-align: right;\">\n",
       "      <th></th>\n",
       "      <th>housing_median_age</th>\n",
       "      <th>total_rooms</th>\n",
       "      <th>population</th>\n",
       "      <th>households</th>\n",
       "      <th>longitude</th>\n",
       "      <th>median_house_value</th>\n",
       "    </tr>\n",
       "  </thead>\n",
       "  <tbody>\n",
       "    <tr>\n",
       "      <th>0</th>\n",
       "      <td>41</td>\n",
       "      <td>880</td>\n",
       "      <td>322</td>\n",
       "      <td>126</td>\n",
       "      <td>-122.23</td>\n",
       "      <td>452600</td>\n",
       "    </tr>\n",
       "    <tr>\n",
       "      <th>1</th>\n",
       "      <td>21</td>\n",
       "      <td>7099</td>\n",
       "      <td>2401</td>\n",
       "      <td>1138</td>\n",
       "      <td>-122.22</td>\n",
       "      <td>358500</td>\n",
       "    </tr>\n",
       "    <tr>\n",
       "      <th>2</th>\n",
       "      <td>52</td>\n",
       "      <td>1467</td>\n",
       "      <td>496</td>\n",
       "      <td>177</td>\n",
       "      <td>-122.24</td>\n",
       "      <td>352100</td>\n",
       "    </tr>\n",
       "    <tr>\n",
       "      <th>3</th>\n",
       "      <td>52</td>\n",
       "      <td>1274</td>\n",
       "      <td>558</td>\n",
       "      <td>219</td>\n",
       "      <td>-122.25</td>\n",
       "      <td>341300</td>\n",
       "    </tr>\n",
       "    <tr>\n",
       "      <th>4</th>\n",
       "      <td>52</td>\n",
       "      <td>1627</td>\n",
       "      <td>565</td>\n",
       "      <td>259</td>\n",
       "      <td>-122.25</td>\n",
       "      <td>342200</td>\n",
       "    </tr>\n",
       "  </tbody>\n",
       "</table>\n",
       "</div>"
      ],
      "text/plain": [
       "   housing_median_age  total_rooms  population  households  longitude  \\\n",
       "0                  41          880         322         126    -122.23   \n",
       "1                  21         7099        2401        1138    -122.22   \n",
       "2                  52         1467         496         177    -122.24   \n",
       "3                  52         1274         558         219    -122.25   \n",
       "4                  52         1627         565         259    -122.25   \n",
       "\n",
       "   median_house_value  \n",
       "0              452600  \n",
       "1              358500  \n",
       "2              352100  \n",
       "3              341300  \n",
       "4              342200  "
      ]
     },
     "execution_count": 16,
     "metadata": {},
     "output_type": "execute_result"
    }
   ],
   "source": [
    "work_df.head(5)"
   ]
  },
  {
   "cell_type": "code",
   "execution_count": 17,
   "metadata": {},
   "outputs": [
    {
     "data": {
      "text/html": [
       "<div>\n",
       "<style scoped>\n",
       "    .dataframe tbody tr th:only-of-type {\n",
       "        vertical-align: middle;\n",
       "    }\n",
       "\n",
       "    .dataframe tbody tr th {\n",
       "        vertical-align: top;\n",
       "    }\n",
       "\n",
       "    .dataframe thead th {\n",
       "        text-align: right;\n",
       "    }\n",
       "</style>\n",
       "<table border=\"1\" class=\"dataframe\">\n",
       "  <thead>\n",
       "    <tr style=\"text-align: right;\">\n",
       "      <th></th>\n",
       "      <th>housing_median_age</th>\n",
       "      <th>total_rooms</th>\n",
       "      <th>population</th>\n",
       "      <th>households</th>\n",
       "      <th>longitude</th>\n",
       "      <th>median_house_value</th>\n",
       "    </tr>\n",
       "  </thead>\n",
       "  <tbody>\n",
       "    <tr>\n",
       "      <th>20630</th>\n",
       "      <td>11</td>\n",
       "      <td>2640</td>\n",
       "      <td>1257</td>\n",
       "      <td>445</td>\n",
       "      <td>-121.32</td>\n",
       "      <td>112000</td>\n",
       "    </tr>\n",
       "    <tr>\n",
       "      <th>20631</th>\n",
       "      <td>15</td>\n",
       "      <td>2655</td>\n",
       "      <td>1200</td>\n",
       "      <td>432</td>\n",
       "      <td>-121.40</td>\n",
       "      <td>107200</td>\n",
       "    </tr>\n",
       "    <tr>\n",
       "      <th>20632</th>\n",
       "      <td>15</td>\n",
       "      <td>2319</td>\n",
       "      <td>1047</td>\n",
       "      <td>385</td>\n",
       "      <td>-121.45</td>\n",
       "      <td>115600</td>\n",
       "    </tr>\n",
       "    <tr>\n",
       "      <th>20633</th>\n",
       "      <td>27</td>\n",
       "      <td>2080</td>\n",
       "      <td>1082</td>\n",
       "      <td>382</td>\n",
       "      <td>-121.53</td>\n",
       "      <td>98300</td>\n",
       "    </tr>\n",
       "    <tr>\n",
       "      <th>20634</th>\n",
       "      <td>28</td>\n",
       "      <td>2332</td>\n",
       "      <td>1041</td>\n",
       "      <td>344</td>\n",
       "      <td>-121.56</td>\n",
       "      <td>116800</td>\n",
       "    </tr>\n",
       "    <tr>\n",
       "      <th>20635</th>\n",
       "      <td>25</td>\n",
       "      <td>1665</td>\n",
       "      <td>845</td>\n",
       "      <td>330</td>\n",
       "      <td>-121.09</td>\n",
       "      <td>78100</td>\n",
       "    </tr>\n",
       "    <tr>\n",
       "      <th>20636</th>\n",
       "      <td>18</td>\n",
       "      <td>697</td>\n",
       "      <td>356</td>\n",
       "      <td>114</td>\n",
       "      <td>-121.21</td>\n",
       "      <td>77100</td>\n",
       "    </tr>\n",
       "    <tr>\n",
       "      <th>20637</th>\n",
       "      <td>17</td>\n",
       "      <td>2254</td>\n",
       "      <td>1007</td>\n",
       "      <td>433</td>\n",
       "      <td>-121.22</td>\n",
       "      <td>92300</td>\n",
       "    </tr>\n",
       "    <tr>\n",
       "      <th>20638</th>\n",
       "      <td>18</td>\n",
       "      <td>1860</td>\n",
       "      <td>741</td>\n",
       "      <td>349</td>\n",
       "      <td>-121.32</td>\n",
       "      <td>84700</td>\n",
       "    </tr>\n",
       "    <tr>\n",
       "      <th>20639</th>\n",
       "      <td>16</td>\n",
       "      <td>2785</td>\n",
       "      <td>1387</td>\n",
       "      <td>530</td>\n",
       "      <td>-121.24</td>\n",
       "      <td>89400</td>\n",
       "    </tr>\n",
       "  </tbody>\n",
       "</table>\n",
       "</div>"
      ],
      "text/plain": [
       "       housing_median_age  total_rooms  population  households  longitude  \\\n",
       "20630                  11         2640        1257         445    -121.32   \n",
       "20631                  15         2655        1200         432    -121.40   \n",
       "20632                  15         2319        1047         385    -121.45   \n",
       "20633                  27         2080        1082         382    -121.53   \n",
       "20634                  28         2332        1041         344    -121.56   \n",
       "20635                  25         1665         845         330    -121.09   \n",
       "20636                  18          697         356         114    -121.21   \n",
       "20637                  17         2254        1007         433    -121.22   \n",
       "20638                  18         1860         741         349    -121.32   \n",
       "20639                  16         2785        1387         530    -121.24   \n",
       "\n",
       "       median_house_value  \n",
       "20630              112000  \n",
       "20631              107200  \n",
       "20632              115600  \n",
       "20633               98300  \n",
       "20634              116800  \n",
       "20635               78100  \n",
       "20636               77100  \n",
       "20637               92300  \n",
       "20638               84700  \n",
       "20639               89400  "
      ]
     },
     "execution_count": 17,
     "metadata": {},
     "output_type": "execute_result"
    }
   ],
   "source": [
    "dataset = work_df.copy()\n",
    "dataset.tail(10)"
   ]
  },
  {
   "cell_type": "code",
   "execution_count": 18,
   "metadata": {},
   "outputs": [
    {
     "data": {
      "text/plain": [
       "housing_median_age    0\n",
       "total_rooms           0\n",
       "population            0\n",
       "households            0\n",
       "longitude             0\n",
       "median_house_value    0\n",
       "dtype: int64"
      ]
     },
     "execution_count": 18,
     "metadata": {},
     "output_type": "execute_result"
    }
   ],
   "source": [
    "dataset.isna().sum()"
   ]
  },
  {
   "cell_type": "code",
   "execution_count": 19,
   "metadata": {},
   "outputs": [
    {
     "data": {
      "text/plain": [
       "array([[  41.  ,  880.  ,  322.  ,  126.  , -122.23],\n",
       "       [  21.  , 7099.  , 2401.  , 1138.  , -122.22],\n",
       "       [  52.  , 1467.  ,  496.  ,  177.  , -122.24],\n",
       "       ...,\n",
       "       [  17.  , 2254.  , 1007.  ,  433.  , -121.22],\n",
       "       [  18.  , 1860.  ,  741.  ,  349.  , -121.32],\n",
       "       [  16.  , 2785.  , 1387.  ,  530.  , -121.24]])"
      ]
     },
     "execution_count": 19,
     "metadata": {},
     "output_type": "execute_result"
    }
   ],
   "source": [
    "x=dataset.iloc[:, 0:5].to_numpy()\n",
    "y=dataset.iloc[:,5].to_numpy()\n",
    "x"
   ]
  },
  {
   "cell_type": "code",
   "execution_count": 20,
   "metadata": {},
   "outputs": [
    {
     "data": {
      "text/plain": [
       "array([[452600],\n",
       "       [358500],\n",
       "       [352100],\n",
       "       ...,\n",
       "       [ 92300],\n",
       "       [ 84700],\n",
       "       [ 89400]])"
      ]
     },
     "execution_count": 20,
     "metadata": {},
     "output_type": "execute_result"
    }
   ],
   "source": [
    "y=np.reshape(y, (-1,1))\n",
    "y"
   ]
  },
  {
   "cell_type": "code",
   "execution_count": 21,
   "metadata": {},
   "outputs": [
    {
     "name": "stdout",
     "output_type": "stream",
     "text": [
      "MinMaxScaler(copy=True, feature_range=(0, 1))\n",
      "MinMaxScaler(copy=True, feature_range=(0, 1))\n"
     ]
    }
   ],
   "source": [
    "scaler_x = MinMaxScaler()\n",
    "scaler_y = MinMaxScaler()\n",
    "\n",
    "print(scaler_x.fit(x))\n",
    "xscale=scaler_x.transform(x)\n",
    "\n",
    "print(scaler_y.fit(y))\n",
    "yscale=scaler_y.transform(y)"
   ]
  },
  {
   "cell_type": "code",
   "execution_count": 22,
   "metadata": {},
   "outputs": [],
   "source": [
    "X_train, X_test, y_train, y_test = train_test_split(xscale, yscale)"
   ]
  },
  {
   "cell_type": "code",
   "execution_count": 23,
   "metadata": {},
   "outputs": [
    {
     "data": {
      "text/plain": [
       "(15480, 5)"
      ]
     },
     "execution_count": 23,
     "metadata": {},
     "output_type": "execute_result"
    }
   ],
   "source": [
    "X_train.shape"
   ]
  },
  {
   "cell_type": "code",
   "execution_count": 24,
   "metadata": {},
   "outputs": [
    {
     "data": {
      "text/plain": [
       "(15480, 1)"
      ]
     },
     "execution_count": 24,
     "metadata": {},
     "output_type": "execute_result"
    }
   ],
   "source": [
    "y_train.shape"
   ]
  },
  {
   "cell_type": "code",
   "execution_count": 25,
   "metadata": {},
   "outputs": [
    {
     "name": "stdout",
     "output_type": "stream",
     "text": [
      "Model: \"sequential\"\n",
      "_________________________________________________________________\n",
      "Layer (type)                 Output Shape              Param #   \n",
      "=================================================================\n",
      "dense (Dense)                (None, 12)                72        \n",
      "_________________________________________________________________\n",
      "dense_1 (Dense)              (None, 8)                 104       \n",
      "_________________________________________________________________\n",
      "dense_2 (Dense)              (None, 1)                 9         \n",
      "=================================================================\n",
      "Total params: 185\n",
      "Trainable params: 185\n",
      "Non-trainable params: 0\n",
      "_________________________________________________________________\n"
     ]
    }
   ],
   "source": [
    "model = Sequential()\n",
    "model.add(Dense(12, input_dim=5, kernel_initializer='normal', activation='relu'))\n",
    "model.add(Dense(8, activation='relu'))\n",
    "model.add(Dense(1, activation='linear'))\n",
    "model.summary()"
   ]
  },
  {
   "cell_type": "code",
   "execution_count": 26,
   "metadata": {},
   "outputs": [],
   "source": [
    "model.compile(loss='mse', optimizer='adam', metrics=['mse','mae'])"
   ]
  },
  {
   "cell_type": "code",
   "execution_count": 27,
   "metadata": {},
   "outputs": [
    {
     "name": "stdout",
     "output_type": "stream",
     "text": [
      "Train on 12384 samples, validate on 3096 samples\n",
      "Epoch 1/50\n",
      "12384/12384 [==============================] - 1s 42us/sample - loss: 0.0797 - mse: 0.0797 - mae: 0.2147 - val_loss: 0.0548 - val_mse: 0.0548 - val_mae: 0.1820\n",
      "Epoch 2/50\n",
      "12384/12384 [==============================] - 0s 17us/sample - loss: 0.0552 - mse: 0.0552 - mae: 0.1851 - val_loss: 0.0540 - val_mse: 0.0540 - val_mae: 0.1850\n",
      "Epoch 3/50\n",
      "12384/12384 [==============================] - 0s 17us/sample - loss: 0.0543 - mse: 0.0543 - mae: 0.1837 - val_loss: 0.0531 - val_mse: 0.0531 - val_mae: 0.1790\n",
      "Epoch 4/50\n",
      "12384/12384 [==============================] - 0s 18us/sample - loss: 0.0539 - mse: 0.0539 - mae: 0.1824 - val_loss: 0.0526 - val_mse: 0.0526 - val_mae: 0.1821\n",
      "Epoch 5/50\n",
      "12384/12384 [==============================] - 0s 17us/sample - loss: 0.0528 - mse: 0.0528 - mae: 0.1803 - val_loss: 0.0516 - val_mse: 0.0516 - val_mae: 0.1734\n",
      "Epoch 6/50\n",
      "12384/12384 [==============================] - 0s 16us/sample - loss: 0.0519 - mse: 0.0519 - mae: 0.1784 - val_loss: 0.0505 - val_mse: 0.0505 - val_mae: 0.1793\n",
      "Epoch 7/50\n",
      "12384/12384 [==============================] - 0s 16us/sample - loss: 0.0504 - mse: 0.0504 - mae: 0.1755 - val_loss: 0.0485 - val_mse: 0.0485 - val_mae: 0.1711\n",
      "Epoch 8/50\n",
      "12384/12384 [==============================] - 0s 17us/sample - loss: 0.0489 - mse: 0.0489 - mae: 0.1727 - val_loss: 0.0471 - val_mse: 0.0471 - val_mae: 0.1686\n",
      "Epoch 9/50\n",
      "12384/12384 [==============================] - 0s 18us/sample - loss: 0.0478 - mse: 0.0478 - mae: 0.1705 - val_loss: 0.0461 - val_mse: 0.0461 - val_mae: 0.1679\n",
      "Epoch 10/50\n",
      "12384/12384 [==============================] - 0s 19us/sample - loss: 0.0468 - mse: 0.0468 - mae: 0.1689 - val_loss: 0.0453 - val_mse: 0.0453 - val_mae: 0.1638\n",
      "Epoch 11/50\n",
      "12384/12384 [==============================] - 0s 18us/sample - loss: 0.0461 - mse: 0.0461 - mae: 0.1674 - val_loss: 0.0449 - val_mse: 0.0449 - val_mae: 0.1625\n",
      "Epoch 12/50\n",
      "12384/12384 [==============================] - 0s 19us/sample - loss: 0.0455 - mse: 0.0455 - mae: 0.1664 - val_loss: 0.0445 - val_mse: 0.0445 - val_mae: 0.1612\n",
      "Epoch 13/50\n",
      "12384/12384 [==============================] - 0s 17us/sample - loss: 0.0446 - mse: 0.0446 - mae: 0.1649 - val_loss: 0.0434 - val_mse: 0.0434 - val_mae: 0.1634\n",
      "Epoch 14/50\n",
      "12384/12384 [==============================] - 0s 17us/sample - loss: 0.0442 - mse: 0.0442 - mae: 0.1642 - val_loss: 0.0432 - val_mse: 0.0432 - val_mae: 0.1602\n",
      "Epoch 15/50\n",
      "12384/12384 [==============================] - 0s 17us/sample - loss: 0.0438 - mse: 0.0438 - mae: 0.1633 - val_loss: 0.0425 - val_mse: 0.0425 - val_mae: 0.1601\n",
      "Epoch 16/50\n",
      "12384/12384 [==============================] - 0s 17us/sample - loss: 0.0436 - mse: 0.0436 - mae: 0.1628 - val_loss: 0.0433 - val_mse: 0.0433 - val_mae: 0.1648\n",
      "Epoch 17/50\n",
      "12384/12384 [==============================] - 0s 17us/sample - loss: 0.0430 - mse: 0.0430 - mae: 0.1617 - val_loss: 0.0421 - val_mse: 0.0421 - val_mae: 0.1582\n",
      "Epoch 18/50\n",
      "12384/12384 [==============================] - 0s 18us/sample - loss: 0.0429 - mse: 0.0429 - mae: 0.1611 - val_loss: 0.0419 - val_mse: 0.0419 - val_mae: 0.1584\n",
      "Epoch 19/50\n",
      "12384/12384 [==============================] - 0s 19us/sample - loss: 0.0429 - mse: 0.0429 - mae: 0.1614 - val_loss: 0.0421 - val_mse: 0.0421 - val_mae: 0.1611\n",
      "Epoch 20/50\n",
      "12384/12384 [==============================] - 0s 17us/sample - loss: 0.0423 - mse: 0.0423 - mae: 0.1603 - val_loss: 0.0414 - val_mse: 0.0414 - val_mae: 0.1589\n",
      "Epoch 21/50\n",
      "12384/12384 [==============================] - 0s 17us/sample - loss: 0.0421 - mse: 0.0421 - mae: 0.1599 - val_loss: 0.0422 - val_mse: 0.0422 - val_mae: 0.1619\n",
      "Epoch 22/50\n",
      "12384/12384 [==============================] - 0s 17us/sample - loss: 0.0422 - mse: 0.0422 - mae: 0.1600 - val_loss: 0.0413 - val_mse: 0.0413 - val_mae: 0.1569\n",
      "Epoch 23/50\n",
      "12384/12384 [==============================] - 0s 17us/sample - loss: 0.0418 - mse: 0.0418 - mae: 0.1593 - val_loss: 0.0412 - val_mse: 0.0412 - val_mae: 0.1576\n",
      "Epoch 24/50\n",
      "12384/12384 [==============================] - 0s 17us/sample - loss: 0.0416 - mse: 0.0416 - mae: 0.1588 - val_loss: 0.0412 - val_mse: 0.0412 - val_mae: 0.1564\n",
      "Epoch 25/50\n",
      "12384/12384 [==============================] - 0s 18us/sample - loss: 0.0416 - mse: 0.0416 - mae: 0.1590 - val_loss: 0.0410 - val_mse: 0.0410 - val_mae: 0.1556\n",
      "Epoch 26/50\n",
      "12384/12384 [==============================] - 0s 17us/sample - loss: 0.0415 - mse: 0.0415 - mae: 0.1587 - val_loss: 0.0408 - val_mse: 0.0408 - val_mae: 0.1567\n",
      "Epoch 27/50\n",
      "12384/12384 [==============================] - 0s 19us/sample - loss: 0.0416 - mse: 0.0416 - mae: 0.1589 - val_loss: 0.0407 - val_mse: 0.0407 - val_mae: 0.1561\n",
      "Epoch 28/50\n",
      "12384/12384 [==============================] - 0s 16us/sample - loss: 0.0413 - mse: 0.0413 - mae: 0.1582 - val_loss: 0.0406 - val_mse: 0.0406 - val_mae: 0.1566\n",
      "Epoch 29/50\n",
      "12384/12384 [==============================] - 0s 17us/sample - loss: 0.0412 - mse: 0.0412 - mae: 0.1582 - val_loss: 0.0405 - val_mse: 0.0405 - val_mae: 0.1553\n",
      "Epoch 30/50\n",
      "12384/12384 [==============================] - 0s 17us/sample - loss: 0.0412 - mse: 0.0412 - mae: 0.1580 - val_loss: 0.0407 - val_mse: 0.0407 - val_mae: 0.1550\n",
      "Epoch 31/50\n",
      "12384/12384 [==============================] - 0s 18us/sample - loss: 0.0412 - mse: 0.0412 - mae: 0.1582 - val_loss: 0.0406 - val_mse: 0.0406 - val_mae: 0.1572\n",
      "Epoch 32/50\n",
      "12384/12384 [==============================] - 0s 18us/sample - loss: 0.0411 - mse: 0.0411 - mae: 0.1577 - val_loss: 0.0406 - val_mse: 0.0406 - val_mae: 0.1570\n",
      "Epoch 33/50\n",
      "12384/12384 [==============================] - 0s 17us/sample - loss: 0.0410 - mse: 0.0410 - mae: 0.1578 - val_loss: 0.0407 - val_mse: 0.0407 - val_mae: 0.1574\n",
      "Epoch 34/50\n",
      "12384/12384 [==============================] - 0s 18us/sample - loss: 0.0412 - mse: 0.0412 - mae: 0.1580 - val_loss: 0.0401 - val_mse: 0.0401 - val_mae: 0.1554\n",
      "Epoch 35/50\n",
      "12384/12384 [==============================] - 0s 18us/sample - loss: 0.0411 - mse: 0.0411 - mae: 0.1580 - val_loss: 0.0402 - val_mse: 0.0402 - val_mae: 0.1558\n",
      "Epoch 36/50\n",
      "12384/12384 [==============================] - 0s 17us/sample - loss: 0.0410 - mse: 0.0410 - mae: 0.1576 - val_loss: 0.0407 - val_mse: 0.0407 - val_mae: 0.1575\n",
      "Epoch 37/50\n",
      "12384/12384 [==============================] - 0s 18us/sample - loss: 0.0409 - mse: 0.0409 - mae: 0.1572 - val_loss: 0.0401 - val_mse: 0.0401 - val_mae: 0.1550\n",
      "Epoch 38/50\n",
      "12384/12384 [==============================] - 0s 18us/sample - loss: 0.0409 - mse: 0.0409 - mae: 0.1577 - val_loss: 0.0417 - val_mse: 0.0417 - val_mae: 0.1567\n",
      "Epoch 39/50\n",
      "12384/12384 [==============================] - 0s 18us/sample - loss: 0.0410 - mse: 0.0410 - mae: 0.1576 - val_loss: 0.0404 - val_mse: 0.0404 - val_mae: 0.1556\n",
      "Epoch 40/50\n",
      "12384/12384 [==============================] - 0s 17us/sample - loss: 0.0408 - mse: 0.0408 - mae: 0.1572 - val_loss: 0.0405 - val_mse: 0.0405 - val_mae: 0.1556\n",
      "Epoch 41/50\n",
      "12384/12384 [==============================] - 0s 17us/sample - loss: 0.0408 - mse: 0.0408 - mae: 0.1575 - val_loss: 0.0405 - val_mse: 0.0405 - val_mae: 0.1576\n",
      "Epoch 42/50\n",
      "12384/12384 [==============================] - 0s 19us/sample - loss: 0.0408 - mse: 0.0408 - mae: 0.1573 - val_loss: 0.0402 - val_mse: 0.0402 - val_mae: 0.1547\n",
      "Epoch 43/50\n",
      "12384/12384 [==============================] - 0s 19us/sample - loss: 0.0405 - mse: 0.0405 - mae: 0.1568 - val_loss: 0.0400 - val_mse: 0.0400 - val_mae: 0.1558\n",
      "Epoch 44/50\n",
      "12384/12384 [==============================] - 0s 18us/sample - loss: 0.0407 - mse: 0.0407 - mae: 0.1570 - val_loss: 0.0397 - val_mse: 0.0397 - val_mae: 0.1544\n",
      "Epoch 45/50\n",
      "12384/12384 [==============================] - 0s 19us/sample - loss: 0.0406 - mse: 0.0406 - mae: 0.1568 - val_loss: 0.0402 - val_mse: 0.0402 - val_mae: 0.1563\n",
      "Epoch 46/50\n",
      "12384/12384 [==============================] - 0s 18us/sample - loss: 0.0410 - mse: 0.0410 - mae: 0.1578 - val_loss: 0.0406 - val_mse: 0.0406 - val_mae: 0.1551\n",
      "Epoch 47/50\n",
      "12384/12384 [==============================] - 0s 19us/sample - loss: 0.0407 - mse: 0.0407 - mae: 0.1573 - val_loss: 0.0401 - val_mse: 0.0401 - val_mae: 0.1563\n",
      "Epoch 48/50\n"
     ]
    },
    {
     "name": "stdout",
     "output_type": "stream",
     "text": [
      "12384/12384 [==============================] - 0s 18us/sample - loss: 0.0406 - mse: 0.0406 - mae: 0.1569 - val_loss: 0.0399 - val_mse: 0.0399 - val_mae: 0.1543\n",
      "Epoch 49/50\n",
      "12384/12384 [==============================] - 0s 17us/sample - loss: 0.0403 - mse: 0.0403 - mae: 0.1565 - val_loss: 0.0399 - val_mse: 0.0399 - val_mae: 0.1544\n",
      "Epoch 50/50\n",
      "12384/12384 [==============================] - 0s 18us/sample - loss: 0.0405 - mse: 0.0405 - mae: 0.1566 - val_loss: 0.0408 - val_mse: 0.0408 - val_mae: 0.1551\n"
     ]
    }
   ],
   "source": [
    "history = model.fit(X_train, y_train, epochs=50, batch_size=50,  verbose=1, validation_split=0.2)"
   ]
  },
  {
   "cell_type": "code",
   "execution_count": 28,
   "metadata": {},
   "outputs": [
    {
     "name": "stdout",
     "output_type": "stream",
     "text": [
      "dict_keys(['loss', 'mse', 'mae', 'val_loss', 'val_mse', 'val_mae'])\n"
     ]
    },
    {
     "data": {
      "image/png": "[encoded data removed]",
      "text/plain": [
       "<Figure size 1080x576 with 1 Axes>"
      ]
     },
     "metadata": {
      "needs_background": "light"
     },
     "output_type": "display_data"
    }
   ],
   "source": [
    "print(history.history.keys())\n",
    "# \"Loss\"\n",
    "plt.figure(figsize = (15,8))\n",
    "plt.plot(history.history['loss'])\n",
    "plt.plot(history.history['val_loss'])\n",
    "plt.title('model loss')\n",
    "plt.ylabel('loss')\n",
    "plt.xlabel('epoch')\n",
    "plt.legend(['train', 'validation'], loc='upper left')\n",
    "plt.show()"
   ]
  },
  {
   "cell_type": "markdown",
   "metadata": {},
   "source": [
    "## Predict Values "
   ]
  },
  {
   "cell_type": "code",
   "execution_count": 30,
   "metadata": {},
   "outputs": [
    {
     "name": "stdout",
     "output_type": "stream",
     "text": [
      "X=[  40.    0.   26. 9000. 8000.], Predicted=[3754179.2]\n"
     ]
    }
   ],
   "source": [
    "Xnew = np.array([[40, 0, 26, 9000, 8000]])\n",
    "Xnew= scaler_x.transform(Xnew)\n",
    "ynew= model.predict(Xnew)\n",
    "#invert normalize\n",
    "ynew = scaler_y.inverse_transform(ynew) \n",
    "Xnew = scaler_x.inverse_transform(Xnew)\n",
    "print(\"X=%s, Predicted=%s\" % (Xnew[0], ynew[0]))"
   ]
  },
  {
   "cell_type": "code",
   "execution_count": null,
   "metadata": {},
   "outputs": [],
   "source": []
  },
  {
   "cell_type": "markdown",
   "metadata": {},
   "source": [
    "# PROGRAM END"
   ]
  },
  {
   "cell_type": "code",
   "execution_count": null,
   "metadata": {},
   "outputs": [],
   "source": []
  }
 ],
 "metadata": {
  "kernelspec": {
   "display_name": "Python 3",
   "language": "python",
   "name": "python3"
  },
  "language_info": {
   "codemirror_mode": {
    "name": "ipython",
    "version": 3
   },
   "file_extension": ".py",
   "mimetype": "text/x-python",
   "name": "python",
   "nbconvert_exporter": "python",
   "pygments_lexer": "ipython3",
   "version": "3.7.6"
  }
 },
 "nbformat": 4,
 "nbformat_minor": 2
}
